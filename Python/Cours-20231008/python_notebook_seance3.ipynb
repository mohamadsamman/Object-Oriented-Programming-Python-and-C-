{
 "cells": [
  {
   "cell_type": "markdown",
   "metadata": {},
   "source": [
    "# python (général)"
   ]
  },
  {
   "cell_type": "markdown",
   "metadata": {},
   "source": [
    "## import"
   ]
  },
  {
   "cell_type": "code",
   "execution_count": null,
   "metadata": {},
   "outputs": [],
   "source": [
    "import numpy as np\n",
    "print(np.__version__)"
   ]
  },
  {
   "cell_type": "code",
   "execution_count": null,
   "metadata": {},
   "outputs": [],
   "source": [
    "import numpy.linalg\n",
    "numpy.linalg.det # ceci est une fonction, un objet function"
   ]
  },
  {
   "cell_type": "code",
   "execution_count": null,
   "metadata": {},
   "outputs": [],
   "source": [
    "import numpy.linalg as nl\n",
    "nl.det # function"
   ]
  },
  {
   "cell_type": "markdown",
   "metadata": {},
   "source": [
    "Supposons que le fichier hello.py contienne les lignes suivantes:"
   ]
  },
  {
   "cell_type": "raw",
   "metadata": {},
   "source": [
    "\"\"\" Fichier hello.py affichant Hello world! \"\"\"\n",
    "\n",
    "def f(t):\n",
    "    \"\"\"\n",
    "        Fonction f renvoyant t**2-3 \n",
    "        t peut être un scalaire ou un array\n",
    "    \"\"\"\n",
    "    return t**2 - 3\n",
    "\n",
    "if __name__==\"__main__\":\n",
    "    print(\"Hello world!\")"
   ]
  },
  {
   "cell_type": "markdown",
   "metadata": {},
   "source": [
    "Alors, on peut faire"
   ]
  },
  {
   "cell_type": "code",
   "execution_count": null,
   "metadata": {
    "scrolled": true
   },
   "outputs": [],
   "source": [
    "import hello # (hello.py doit se trouver dans le répertoire courant)\n",
    "hello.f(2) #function"
   ]
  },
  {
   "cell_type": "markdown",
   "metadata": {},
   "source": [
    "## docstring"
   ]
  },
  {
   "cell_type": "markdown",
   "metadata": {},
   "source": [
    "On peut commenter un module python et ses fonctions grâce à (\"\"\"). Cf. hello.py ci-dessus."
   ]
  },
  {
   "cell_type": "code",
   "execution_count": null,
   "metadata": {
    "scrolled": true
   },
   "outputs": [],
   "source": [
    "import hello\n",
    "help(hello)"
   ]
  },
  {
   "cell_type": "code",
   "execution_count": null,
   "metadata": {},
   "outputs": [],
   "source": [
    "import hello\n",
    "help(hello.f)"
   ]
  },
  {
   "cell_type": "markdown",
   "metadata": {},
   "source": [
    "## Nombres complexes en python"
   ]
  },
  {
   "cell_type": "markdown",
   "metadata": {},
   "source": [
    "Le nombre complexe noté mathématiquement _i_ s'obtient en python en écrivant _1j_."
   ]
  },
  {
   "cell_type": "code",
   "execution_count": null,
   "metadata": {},
   "outputs": [],
   "source": [
    "1j * 1j"
   ]
  },
  {
   "cell_type": "markdown",
   "metadata": {},
   "source": [
    "Le nombre complexe noté mathématiquement _2i_ s'obtient en python en écrivant _2j_."
   ]
  },
  {
   "cell_type": "code",
   "execution_count": null,
   "metadata": {},
   "outputs": [],
   "source": [
    "2j * 2j"
   ]
  },
  {
   "cell_type": "markdown",
   "metadata": {},
   "source": [
    "Le nombre complexe noté mathématiquement _1.5i_ s'obtient en python en écrivant _1.5j_."
   ]
  },
  {
   "cell_type": "code",
   "execution_count": null,
   "metadata": {},
   "outputs": [],
   "source": [
    "1.5j*1j"
   ]
  },
  {
   "cell_type": "markdown",
   "metadata": {},
   "source": [
    "Les opérations élémentaires sur nombres complexes sont reconnues automatiquement en python"
   ]
  },
  {
   "cell_type": "code",
   "execution_count": null,
   "metadata": {},
   "outputs": [],
   "source": [
    "a = 1 + 2j\n",
    "b = -2 + 3j\n",
    "print(a, a+b, a*b)"
   ]
  },
  {
   "cell_type": "markdown",
   "metadata": {},
   "source": [
    "On peut avoir accès aux parties réelle, imaginaire et au module comme suit"
   ]
  },
  {
   "cell_type": "code",
   "execution_count": null,
   "metadata": {},
   "outputs": [],
   "source": [
    "a = 1 + 2j\n",
    "print(a.real, a.imag, abs(a))"
   ]
  },
  {
   "cell_type": "markdown",
   "metadata": {},
   "source": [
    "# Classes en python"
   ]
  },
  {
   "cell_type": "markdown",
   "metadata": {},
   "source": [
    "## Classe MyComplex\n",
    "\n",
    "On définit dans ce qui suit la classe MyComplex pour manipuler les nombres complexes - cette classe n'a pas d'intérêt en soi car les nombres complexes existent déjà en python comme on a vu, il s'agit d'un exemple de classe."
   ]
  },
  {
   "cell_type": "markdown",
   "metadata": {},
   "source": [
    "Tout objet (ou instance) de la classe MyComplex possède les attributs r (pour la partie réelle) et i (pour la partie imaginaire).\n",
    "\n",
    "* Définition du constructeur de classe avec valeurs par défaut égales à 0 pour r et i"
   ]
  },
  {
   "cell_type": "code",
   "execution_count": 2,
   "metadata": {},
   "outputs": [],
   "source": [
    "class MyComplex:\n",
    "    \"\"\" Classe python pour représenter un nombre complexe \"\"\"\n",
    "    def __init__(self, reel=0, imag=0):\n",
    "        self.r = reel\n",
    "        self.i = imag"
   ]
  },
  {
   "cell_type": "markdown",
   "metadata": {},
   "source": [
    "* Exemple d'instance de la classe en utilisant les arguments par défaut du constructeur"
   ]
  },
  {
   "cell_type": "code",
   "execution_count": 4,
   "metadata": {},
   "outputs": [
    {
     "name": "stdout",
     "output_type": "stream",
     "text": [
      "<__main__.MyComplex object at 0x7f20884f5660>\n",
      "0 0\n"
     ]
    }
   ],
   "source": [
    "a0 = MyComplex();\n",
    "print(a0)\n",
    "print(a0.r, a0.i)"
   ]
  },
  {
   "cell_type": "markdown",
   "metadata": {},
   "source": [
    "* Autre exemple d'instance de la classe avec seulement la valeur réelle définie"
   ]
  },
  {
   "cell_type": "code",
   "execution_count": 5,
   "metadata": {},
   "outputs": [
    {
     "name": "stdout",
     "output_type": "stream",
     "text": [
      "1 0\n"
     ]
    }
   ],
   "source": [
    "a1 = MyComplex(1); print(a1.r, a1.i)"
   ]
  },
  {
   "cell_type": "markdown",
   "metadata": {},
   "source": [
    "* Autre exemple d'instance de la classe avec seulement la valeur imaginaire définie"
   ]
  },
  {
   "cell_type": "code",
   "execution_count": 6,
   "metadata": {},
   "outputs": [
    {
     "name": "stdout",
     "output_type": "stream",
     "text": [
      "0 -3\n"
     ]
    }
   ],
   "source": [
    "a2 = MyComplex(imag=-3); print(a2.r, a2.i)"
   ]
  },
  {
   "cell_type": "markdown",
   "metadata": {},
   "source": [
    "* Autre exemple d'instance de la classe "
   ]
  },
  {
   "cell_type": "code",
   "execution_count": null,
   "metadata": {},
   "outputs": [],
   "source": [
    "a3 = MyComplex(5, 7); print(a3.r, a3.i) # equivalent à a3=MyComplex(imag=7,reel=5)"
   ]
  },
  {
   "cell_type": "markdown",
   "metadata": {},
   "source": [
    "On redéfinit la classe pour l'enrichir des méthodes module et rotation. On peut les appliquer à toute instance de la classe."
   ]
  },
  {
   "cell_type": "code",
   "execution_count": 8,
   "metadata": {},
   "outputs": [],
   "source": [
    "from numpy import sqrt, cos, sin\n",
    "class MyComplex:\n",
    "    \"\"\" Classe python pour représenter un nombre complexe \"\"\"\n",
    "    def __init__(self, reel=0, imag=0):\n",
    "        self.r = reel\n",
    "        self.i = imag\n",
    "    def module(self):\n",
    "        return sqrt(self.r**2 + self.i**2) \n",
    "    def rotation(self,theta):\n",
    "        p=self.r\n",
    "        self.r=self.r*cos(theta)-self.i*sin(theta)\n",
    "        self.i=self.i*cos(theta)+p*sin(theta)\n",
    "    def rotation2(self,theta):\n",
    "        p=self.r\n",
    "        x=self.r*cos(theta)-self.i*sin(theta)\n",
    "        y=self.i*cos(theta)+self.r*sin(theta)\n",
    "        return MyComplex(x,y) "
   ]
  },
  {
   "cell_type": "markdown",
   "metadata": {},
   "source": [
    "* Exemple d'utilisation de module et de rotation"
   ]
  },
  {
   "cell_type": "code",
   "execution_count": 9,
   "metadata": {
    "scrolled": true
   },
   "outputs": [
    {
     "name": "stdout",
     "output_type": "stream",
     "text": [
      "1 0\n",
      "0.7071067811865476 0.7071067811865475\n"
     ]
    }
   ],
   "source": [
    "from math import pi\n",
    "z = MyComplex(2, 4)\n",
    "\n",
    "a = MyComplex(reel=1,imag=0);\n",
    "print(a.r,a.i)\n",
    "a.rotation(pi/4)\n",
    "print(a.r,a.i)"
   ]
  },
  {
   "cell_type": "code",
   "execution_count": null,
   "metadata": {},
   "outputs": [],
   "source": [
    "a = MyComplex(reel=1,imag=0);\n",
    "b=a.rotation2(pi/4)\n",
    "print(a.r,a.i) ; print(b.r,b.i) #les termes en e-16 sont des erreurs numériques."
   ]
  },
  {
   "cell_type": "markdown",
   "metadata": {},
   "source": [
    "### 2ème exemple de classe\n",
    "\n",
    "La classe _MaClasse_ contient un attribut identique pour chaque instance de la classe ainsi qu'une méthode."
   ]
  },
  {
   "cell_type": "code",
   "execution_count": 10,
   "metadata": {},
   "outputs": [],
   "source": [
    "class MaClasse:\n",
    "    s = \"Hello world!\"\n",
    "    def f(self):\n",
    "        \"\"\"méthode qui écrit Bonjour\"\"\"\n",
    "        print(\"Bonjour\")"
   ]
  },
  {
   "cell_type": "markdown",
   "metadata": {},
   "source": [
    "Dans ce qui suit, o est une instance (objet) de la classe MaClasse, on fait afficher o.s"
   ]
  },
  {
   "cell_type": "code",
   "execution_count": 11,
   "metadata": {},
   "outputs": [
    {
     "name": "stdout",
     "output_type": "stream",
     "text": [
      "Hello world!\n"
     ]
    }
   ],
   "source": [
    "o = MaClasse()\n",
    "print(o.s)"
   ]
  },
  {
   "cell_type": "markdown",
   "metadata": {},
   "source": [
    "On peut appliquer la méthode f à l'objet o"
   ]
  },
  {
   "cell_type": "code",
   "execution_count": 12,
   "metadata": {
    "scrolled": true
   },
   "outputs": [
    {
     "name": "stdout",
     "output_type": "stream",
     "text": [
      "Bonjour\n"
     ]
    }
   ],
   "source": [
    "o.f()       # execute f"
   ]
  },
  {
   "cell_type": "markdown",
   "metadata": {},
   "source": [
    "## Classe MyComplex2 (avec attributs privés)"
   ]
  },
  {
   "cell_type": "markdown",
   "metadata": {},
   "source": [
    "Cette classe est identique à MyComplex à l'exception du fait que les attributs sont privés"
   ]
  },
  {
   "cell_type": "code",
   "execution_count": 15,
   "metadata": {},
   "outputs": [],
   "source": [
    "class MyComplex2:\n",
    "    \"\"\" Classe python pour représenter un nombre complexe avec attributs privés \"\"\"\n",
    "    def __init__(self, reel=0, imag=0):\n",
    "        self.__r = reel\n",
    "        self.__i = imag"
   ]
  },
  {
   "cell_type": "markdown",
   "metadata": {},
   "source": [
    "Exemple d'instanciation de la classe MyComplex2"
   ]
  },
  {
   "cell_type": "code",
   "execution_count": 16,
   "metadata": {},
   "outputs": [
    {
     "ename": "AttributeError",
     "evalue": "'MyComplex2' object has no attribute '__r'",
     "output_type": "error",
     "traceback": [
      "\u001b[0;31m---------------------------------------------------------------------------\u001b[0m",
      "\u001b[0;31mAttributeError\u001b[0m                            Traceback (most recent call last)",
      "Cell \u001b[0;32mIn[16], line 1\u001b[0m\n\u001b[0;32m----> 1\u001b[0m b \u001b[38;5;241m=\u001b[39m MyComplex2(\u001b[38;5;241m5\u001b[39m, \u001b[38;5;241m7\u001b[39m); \u001b[38;5;28mprint\u001b[39m(\u001b[43mb\u001b[49m\u001b[38;5;241;43m.\u001b[39;49m\u001b[43m__r\u001b[49m, b\u001b[38;5;241m.\u001b[39m__i)  \u001b[38;5;66;03m# donne une erreur car les attributs sont privés \u001b[39;00m\n",
      "\u001b[0;31mAttributeError\u001b[0m: 'MyComplex2' object has no attribute '__r'"
     ]
    }
   ],
   "source": [
    "b = MyComplex2(5, 7); print(b.__r, b.__i)  # donne une erreur car les attributs sont privés "
   ]
  },
  {
   "cell_type": "markdown",
   "metadata": {},
   "source": [
    "On définit alors des fonctions getters et setters (ou accesseurs et mutateurs) permettant ici de récupérer et de définir les parties réelles et imaginaires des nombres complexes."
   ]
  },
  {
   "cell_type": "code",
   "execution_count": 17,
   "metadata": {},
   "outputs": [],
   "source": [
    "class MyComplex2:\n",
    "    \"\"\" Classe python pour représenter un nombre complexe avec attributs privés \"\"\"\n",
    "    def __init__(self, reel=0, imag=0):\n",
    "        self.__r = reel\n",
    "        self.__i = imag\n",
    "    def get_imag(self):\n",
    "        return self.__i\n",
    "    def get_real(self):\n",
    "        return self.__r\n",
    "    def set_imag(self, i):\n",
    "        self.__i = i\n",
    "    def set_real(self, r):\n",
    "        self.__r = r"
   ]
  },
  {
   "cell_type": "markdown",
   "metadata": {},
   "source": [
    "Exemple d'utilisation des getters et setters"
   ]
  },
  {
   "cell_type": "code",
   "execution_count": null,
   "metadata": {
    "scrolled": true
   },
   "outputs": [],
   "source": [
    "b = MyComplex2(5, 7)\n",
    "print(b.get_real(), b.get_imag())\n",
    "\n",
    "b.set_real(-2.1), b.set_imag(8)\n",
    "print(b.get_real(), b.get_imag())"
   ]
  },
  {
   "cell_type": "markdown",
   "metadata": {},
   "source": [
    "## Surcharge des opérateurs"
   ]
  },
  {
   "cell_type": "markdown",
   "metadata": {},
   "source": [
    "Voici la classe MyComplex plus complète avec les opérateurs d'addition, de soustraction, de multiplication (par un scalaire ou par un autre objet MyComplex), de test d'égalité et d'affichage. Il y a aussi la fonction module, un attribut constant à chaque objet (goal) et une méthode de classe (printClass) comme exemple de méthode de ce type."
   ]
  },
  {
   "cell_type": "code",
   "execution_count": null,
   "metadata": {},
   "outputs": [],
   "source": [
    "from math import sqrt, sin , cos\n",
    "import matplotlib.pyplot as plt\n",
    "class MyComplex:\n",
    "    \"\"\" Classe python pour représenter un nombre complexe \"\"\"\n",
    "    \n",
    "    def __init__(self, reel=0, imag=0):\n",
    "        \"\"\" Constructeur de classe \"\"\"\n",
    "        self.r = reel\n",
    "        self.i = imag\n",
    "    \n",
    "    \"\"\" goal est un attribut constant pour chaque objet de la classe \"\"\"\n",
    "    goal = \"To simulate complex numbers\"\n",
    "    \n",
    "    def printClass():\n",
    "        \"\"\" printClass est une fonction sans argument. Elle s'utilise via 'MyComplex.printClass()' \"\"\"\n",
    "        print(\"Inside MyComplex class\")\n",
    "    \n",
    "    def module(self):\n",
    "        \"\"\" Calcul du module d'un nombre complexe \"\"\"\n",
    "        return sqrt(self.r**2 + self.i**2)\n",
    "\n",
    "    def rotation(self,theta):\n",
    "        p=self.r\n",
    "        self.r=self.r*cos(theta)-self.i*sin(theta)\n",
    "        self.i=self.i*cos(theta)+p*sin(theta)\n",
    "        \n",
    "    def rotation2(self,theta):\n",
    "        x=self.r*cos(theta)-self.i*sin(theta)\n",
    "        y=self.i*cos(theta)+self.r*sin(theta)\n",
    "        return MyComplex(x,y)     \n",
    "    def __add__(self, c): # tel que défini, on ne peut pas ajouter un Mycomplex et un float (voir __mul__ par exemple)\n",
    "        \"\"\" Opérateur d'addition \"\"\"\n",
    "        r0 = self.r + c.r \n",
    "        i0 = self.i + c.i\n",
    "        return MyComplex(r0, i0)\n",
    "    \n",
    "    def __sub__(self, c): # idem que pour __add__\n",
    "        \"\"\" Opérateur de soustraction \"\"\"\n",
    "        r = self.r - c.r\n",
    "        i = self.i - c.i\n",
    "        return MyComplex(r, i)\n",
    "    \n",
    "    def __mul__(self, c):\n",
    "        \"\"\" Opérateur de multiplication par un scalaire ou un nombre complexe \"\"\"\n",
    "        r = self.r; i = self.i\n",
    "        if (type(c) ==float) or (type(c) ==int): # pour pouvoir multiplier par un réel\n",
    "            r0 = c * r\n",
    "            i0 = c * i\n",
    "        if type(c)==MyComplex:\n",
    "            r0 = r * c.r - i * c.i\n",
    "            i0 = r * c.i + i * c.r\n",
    "        return MyComplex(r0, i0)\n",
    "\n",
    "    def __rmul__(self, c):\n",
    "        \"\"\" Opérateur de multiplication à droite  d'un scalaire ou un nombre complexe \"\"\"\n",
    "        return self*c # OK car la multiplication par un scalaire à droite est définie (via  __mul__) \n",
    "                      # et l'opération que l'on souhaite définir est commutative)\n",
    "                      # on aurait pu recopier le colde de __mul__, ou choisir de donner un sens\n",
    "                      # différent à __rmul__, si la multiplication n'était pas commutative\n",
    "    \n",
    "    def __eq__(self, c):\n",
    "        \"\"\" Opérateur pour un test d'égalité \"\"\"\n",
    "        eps = 1e-8 # pour erreur numerique\n",
    "        return (abs(self.r - c.r)<= eps) & (abs(self.i - c.i)<= eps)\n",
    "    \n",
    "    def __str__(self):\n",
    "        \"\"\" Opérateur d'affichage (pour print) \"\"\"\n",
    "        return \"Nombre complexe ({0:f}, {1:f})\".format(self.r, self.i)\n",
    "    \n",
    "    def __call__(self, theta=0,m=\"*\",c=\"b\"): \n",
    "        \"\"\" self(theta,m,c) trace avec le marqueur m, en couleur c, la rotation d'angle theta du complexe self\"\"\"\n",
    "        u=self.rotation2(theta)\n",
    "        plt.plot([u.r],[u.i],marker=m,color=c)\n",
    "        return   "
   ]
  },
  {
   "cell_type": "markdown",
   "metadata": {},
   "source": [
    "* Exemple pour l'opérateur d'addition"
   ]
  },
  {
   "cell_type": "code",
   "execution_count": null,
   "metadata": {},
   "outputs": [],
   "source": [
    "a = MyComplex(2, 4)\n",
    "b = MyComplex(-1, 0.5)\n",
    "c = a + b; print(c.r, c.i)"
   ]
  },
  {
   "cell_type": "markdown",
   "metadata": {},
   "source": [
    "* Exemple pour l'opérateur de soustraction"
   ]
  },
  {
   "cell_type": "code",
   "execution_count": null,
   "metadata": {},
   "outputs": [],
   "source": [
    "a = MyComplex(2, 4)\n",
    "b = MyComplex(-1, 0.5)\n",
    "c = a - b; print(c.r, c.i)"
   ]
  },
  {
   "cell_type": "markdown",
   "metadata": {},
   "source": [
    "* Tests sur l'opérateur d'affichage"
   ]
  },
  {
   "cell_type": "code",
   "execution_count": null,
   "metadata": {},
   "outputs": [],
   "source": [
    "a = MyComplex(2, 4); print(a)"
   ]
  },
  {
   "cell_type": "code",
   "execution_count": null,
   "metadata": {},
   "outputs": [],
   "source": [
    "b = MyComplex(-1, 0.5); print(b)"
   ]
  },
  {
   "cell_type": "markdown",
   "metadata": {},
   "source": [
    "* Exemples pour l'opérateur de multiplication (avec complexe et scalaires)"
   ]
  },
  {
   "cell_type": "code",
   "execution_count": null,
   "metadata": {},
   "outputs": [],
   "source": [
    "z = MyComplex(2, 4); z2 = MyComplex(-1, -2)\n",
    "z3 = z * z2; print(z3.r, z3.i) # 6 -8\n",
    "print('Pour vérifier',(2+4j)*(-1-2j))"
   ]
  },
  {
   "cell_type": "code",
   "execution_count": null,
   "metadata": {},
   "outputs": [],
   "source": [
    "z4 = z2 * 5; print(z4.r, z4.i) # -5 -10 # bien défini ici; \n",
    "z5 = 5*z2\n",
    "print(z5.r, z5.i)  # si rmul n'est pas défini, on obtient une erreur sur ce test, l'objet étant à droite dans l'opération !"
   ]
  },
  {
   "cell_type": "markdown",
   "metadata": {},
   "source": [
    "* Test sur l'opérateur d'égalité"
   ]
  },
  {
   "cell_type": "code",
   "execution_count": null,
   "metadata": {},
   "outputs": [],
   "source": [
    "a = MyComplex(2, 4); b = MyComplex(-1, -2)\n",
    "c = a * b\n",
    "d = MyComplex(6.0, -8)\n",
    "c == d"
   ]
  },
  {
   "cell_type": "code",
   "execution_count": null,
   "metadata": {},
   "outputs": [],
   "source": [
    "print(a)"
   ]
  },
  {
   "cell_type": "code",
   "execution_count": null,
   "metadata": {},
   "outputs": [],
   "source": [
    "a=MyComplex(2,0)\n",
    "a()             #arguments par défaut\n",
    "p=a(pi,c=\"r\") # argument m par défaut\n",
    "a(pi/2,\".\",\"g\") \n",
    "a(3*pi/2,c=\"m\",m='o') # arguments dans le désordre ==> il faut préciser le label\n",
    "print(p)"
   ]
  },
  {
   "cell_type": "markdown",
   "metadata": {},
   "source": [
    "* Utilisation de la fonction printClass de la classe MyComplex"
   ]
  },
  {
   "cell_type": "code",
   "execution_count": null,
   "metadata": {},
   "outputs": [],
   "source": [
    "MyComplex.printClass()"
   ]
  },
  {
   "cell_type": "code",
   "execution_count": null,
   "metadata": {},
   "outputs": [],
   "source": [
    "a = MyComplex(2,4)\n",
    "print(a)\n",
    "a.printClass() # donne une erreur car printClass n'a aucun argument!"
   ]
  },
  {
   "cell_type": "markdown",
   "metadata": {},
   "source": [
    "* Chaque objet possède la même valeur de l'attribut goal qui peut être appelé de deux façons"
   ]
  },
  {
   "cell_type": "code",
   "execution_count": null,
   "metadata": {},
   "outputs": [],
   "source": [
    "a.goal"
   ]
  },
  {
   "cell_type": "code",
   "execution_count": null,
   "metadata": {},
   "outputs": [],
   "source": [
    "MyComplex.goal"
   ]
  },
  {
   "cell_type": "markdown",
   "metadata": {},
   "source": [
    "* La fonction vars affiche la valeur des attributs d'un objet."
   ]
  },
  {
   "cell_type": "code",
   "execution_count": null,
   "metadata": {},
   "outputs": [],
   "source": [
    "a = MyComplex()\n",
    "vars(a)"
   ]
  },
  {
   "cell_type": "markdown",
   "metadata": {},
   "source": [
    "Utiliser \\_\\_dict\\_\\_ est une alternative à vars:"
   ]
  },
  {
   "cell_type": "code",
   "execution_count": null,
   "metadata": {},
   "outputs": [],
   "source": [
    "a.__dict__"
   ]
  }
 ],
 "metadata": {
  "kernelspec": {
   "display_name": "Python 3 (ipykernel)",
   "language": "python",
   "name": "python3"
  },
  "language_info": {
   "codemirror_mode": {
    "name": "ipython",
    "version": 3
   },
   "file_extension": ".py",
   "mimetype": "text/x-python",
   "name": "python",
   "nbconvert_exporter": "python",
   "pygments_lexer": "ipython3",
   "version": "3.10.12"
  }
 },
 "nbformat": 4,
 "nbformat_minor": 4
}
